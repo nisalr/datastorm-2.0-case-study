{
 "cells": [
  {
   "cell_type": "markdown",
   "metadata": {},
   "source": [
    "# Import packages and data"
   ]
  },
  {
   "cell_type": "code",
   "execution_count": 1,
   "metadata": {},
   "outputs": [],
   "source": [
    "import pandas as pd\n",
    "import numpy as np\n",
    "from sklearn.ensemble import RandomForestClassifier\n",
    "from lightgbm import LGBMClassifier\n",
    "from category_encoders import OrdinalEncoder\n",
    "from sklearn.metrics import roc_auc_score, classification_report, confusion_matrix, accuracy_score"
   ]
  },
  {
   "cell_type": "code",
   "execution_count": 2,
   "metadata": {},
   "outputs": [],
   "source": [
    "POLICY_DATA = '../data/datastorm_policy_data.csv'\n",
    "AGENT_DATA = '../data/datastorm_agent_data.csv'\n",
    "TEST_DATA = '../data/testset.csv'"
   ]
  },
  {
   "cell_type": "code",
   "execution_count": 3,
   "metadata": {},
   "outputs": [],
   "source": [
    "df_pred = pd.read_csv(TEST_DATA, index_col='map_client_cd')"
   ]
  },
  {
   "cell_type": "code",
   "execution_count": 4,
   "metadata": {},
   "outputs": [],
   "source": [
    "df_agent = pd.read_csv(AGENT_DATA)"
   ]
  },
  {
   "cell_type": "code",
   "execution_count": 5,
   "metadata": {},
   "outputs": [
    {
     "name": "stderr",
     "output_type": "stream",
     "text": [
      "c:\\users\\nisal_105136\\appdata\\local\\programs\\python\\python36\\lib\\site-packages\\IPython\\core\\interactiveshell.py:3051: DtypeWarning: Columns (47) have mixed types. Specify dtype option on import or set low_memory=False.\n",
      "  interactivity=interactivity, compiler=compiler, result=result)\n"
     ]
    }
   ],
   "source": [
    "df = pd.read_csv(POLICY_DATA, parse_dates=['next_due_dt', 'termination_dt', \n",
    "                                           'main_holder_dob', 'spouse_dob', \n",
    "                                           'child1_dob', 'child2_dob', \n",
    "                                           'child3_dob', 'child4_dob', \n",
    "                                           'child5_dob', \n",
    "                                           'run_date', 'commencement_dt'])"
   ]
  },
  {
   "cell_type": "code",
   "execution_count": 6,
   "metadata": {},
   "outputs": [],
   "source": [
    "df = df.merge(df_agent, on='agent_code', how='left')"
   ]
  },
  {
   "cell_type": "code",
   "execution_count": 7,
   "metadata": {},
   "outputs": [],
   "source": [
    "df = df.drop(columns=['main_holder_occupation_cd', 'product_code'])"
   ]
  },
  {
   "cell_type": "markdown",
   "metadata": {},
   "source": [
    "# Data Cleaning"
   ]
  },
  {
   "cell_type": "markdown",
   "metadata": {},
   "source": [
    "## Removing duplicate columns "
   ]
  },
  {
   "cell_type": "code",
   "execution_count": 8,
   "metadata": {},
   "outputs": [],
   "source": [
    "df = df.drop_duplicates(subset=['policy_code', 'client_code', 'policy_snapshot_as_on'], keep='first')"
   ]
  },
  {
   "cell_type": "markdown",
   "metadata": {},
   "source": [
    "## Remove policy snapshot with very small interval"
   ]
  },
  {
   "cell_type": "code",
   "execution_count": 9,
   "metadata": {},
   "outputs": [],
   "source": [
    "df = df[df.policy_snapshot_as_on != 20190831]"
   ]
  },
  {
   "cell_type": "code",
   "execution_count": 10,
   "metadata": {},
   "outputs": [
    {
     "data": {
      "text/html": [
       "<div>\n",
       "<style scoped>\n",
       "    .dataframe tbody tr th:only-of-type {\n",
       "        vertical-align: middle;\n",
       "    }\n",
       "\n",
       "    .dataframe tbody tr th {\n",
       "        vertical-align: top;\n",
       "    }\n",
       "\n",
       "    .dataframe thead th {\n",
       "        text-align: right;\n",
       "    }\n",
       "</style>\n",
       "<table border=\"1\" class=\"dataframe\">\n",
       "  <thead>\n",
       "    <tr style=\"text-align: right;\">\n",
       "      <th></th>\n",
       "      <th>policy_term</th>\n",
       "      <th>policy_payment_mode</th>\n",
       "      <th>policy_status</th>\n",
       "      <th>commencement_dt</th>\n",
       "      <th>next_due_dt</th>\n",
       "      <th>termination_dt</th>\n",
       "      <th>termination_reason</th>\n",
       "      <th>main_holder_gender</th>\n",
       "      <th>main_holder_dob</th>\n",
       "      <th>main_holder_entry_age</th>\n",
       "      <th>...</th>\n",
       "      <th>date_joined</th>\n",
       "      <th>status</th>\n",
       "      <th>substatus</th>\n",
       "      <th>termination_date</th>\n",
       "      <th>city_name</th>\n",
       "      <th>cluster_code</th>\n",
       "      <th>supervisor_code</th>\n",
       "      <th>zone_code</th>\n",
       "      <th>region_code</th>\n",
       "      <th>designation</th>\n",
       "    </tr>\n",
       "  </thead>\n",
       "  <tbody>\n",
       "    <tr>\n",
       "      <th>0</th>\n",
       "      <td>20</td>\n",
       "      <td>M</td>\n",
       "      <td>INFORCE</td>\n",
       "      <td>2011-08-21</td>\n",
       "      <td>2019-02-21</td>\n",
       "      <td>NaT</td>\n",
       "      <td>NaN</td>\n",
       "      <td>M</td>\n",
       "      <td>1983-10-01</td>\n",
       "      <td>28</td>\n",
       "      <td>...</td>\n",
       "      <td>2018/02/27</td>\n",
       "      <td>TERMINATED</td>\n",
       "      <td>AUTOTERMINATED</td>\n",
       "      <td>2018/10/31</td>\n",
       "      <td>Colombo 03</td>\n",
       "      <td>LA01002</td>\n",
       "      <td>AG107931</td>\n",
       "      <td>ZONE105</td>\n",
       "      <td>RA262</td>\n",
       "      <td>Advisor</td>\n",
       "    </tr>\n",
       "    <tr>\n",
       "      <th>1</th>\n",
       "      <td>15</td>\n",
       "      <td>M</td>\n",
       "      <td>INFORCE</td>\n",
       "      <td>2006-07-14</td>\n",
       "      <td>2019-09-14</td>\n",
       "      <td>NaT</td>\n",
       "      <td>NaN</td>\n",
       "      <td>F</td>\n",
       "      <td>1958-01-01</td>\n",
       "      <td>48</td>\n",
       "      <td>...</td>\n",
       "      <td>1998/10/02</td>\n",
       "      <td>INFORCED</td>\n",
       "      <td>ACTIVE</td>\n",
       "      <td>NaN</td>\n",
       "      <td>Moratuwa</td>\n",
       "      <td>LA01001</td>\n",
       "      <td>AG100875</td>\n",
       "      <td>ZONE110</td>\n",
       "      <td>RA248</td>\n",
       "      <td>Advisor</td>\n",
       "    </tr>\n",
       "    <tr>\n",
       "      <th>2</th>\n",
       "      <td>20</td>\n",
       "      <td>Y</td>\n",
       "      <td>INFORCE</td>\n",
       "      <td>2018-12-28</td>\n",
       "      <td>2019-12-28</td>\n",
       "      <td>NaT</td>\n",
       "      <td>NaN</td>\n",
       "      <td>M</td>\n",
       "      <td>1967-11-01</td>\n",
       "      <td>51</td>\n",
       "      <td>...</td>\n",
       "      <td>2014/06/25</td>\n",
       "      <td>INFORCED</td>\n",
       "      <td>ACTIVE</td>\n",
       "      <td>NaN</td>\n",
       "      <td>Batticaloa</td>\n",
       "      <td>LA01004</td>\n",
       "      <td>AG101697</td>\n",
       "      <td>ZONE107</td>\n",
       "      <td>RA231</td>\n",
       "      <td>Team Leader</td>\n",
       "    </tr>\n",
       "    <tr>\n",
       "      <th>3</th>\n",
       "      <td>15</td>\n",
       "      <td>Q</td>\n",
       "      <td>INFORCE</td>\n",
       "      <td>2018-11-06</td>\n",
       "      <td>2020-02-06</td>\n",
       "      <td>NaT</td>\n",
       "      <td>NaN</td>\n",
       "      <td>M</td>\n",
       "      <td>1989-10-01</td>\n",
       "      <td>29</td>\n",
       "      <td>...</td>\n",
       "      <td>2014/03/20</td>\n",
       "      <td>INFORCED</td>\n",
       "      <td>ACTIVE</td>\n",
       "      <td>NaN</td>\n",
       "      <td>Ratnapura</td>\n",
       "      <td>LA01002</td>\n",
       "      <td>AG104896</td>\n",
       "      <td>ZONE114</td>\n",
       "      <td>RA269</td>\n",
       "      <td>Advisor</td>\n",
       "    </tr>\n",
       "    <tr>\n",
       "      <th>4</th>\n",
       "      <td>15</td>\n",
       "      <td>M</td>\n",
       "      <td>LAPSED</td>\n",
       "      <td>2012-04-28</td>\n",
       "      <td>2015-06-28</td>\n",
       "      <td>NaT</td>\n",
       "      <td>OTHERS</td>\n",
       "      <td>M</td>\n",
       "      <td>1988-05-01</td>\n",
       "      <td>24</td>\n",
       "      <td>...</td>\n",
       "      <td>2001/05/24</td>\n",
       "      <td>INFORCED</td>\n",
       "      <td>ACTIVE</td>\n",
       "      <td>NaN</td>\n",
       "      <td>Wadduwa</td>\n",
       "      <td>LA01002</td>\n",
       "      <td>AG104545</td>\n",
       "      <td>ZONE114</td>\n",
       "      <td>RA257</td>\n",
       "      <td>Advisor</td>\n",
       "    </tr>\n",
       "  </tbody>\n",
       "</table>\n",
       "<p>5 rows × 70 columns</p>\n",
       "</div>"
      ],
      "text/plain": [
       "   policy_term policy_payment_mode policy_status commencement_dt next_due_dt  \\\n",
       "0           20                   M       INFORCE      2011-08-21  2019-02-21   \n",
       "1           15                   M       INFORCE      2006-07-14  2019-09-14   \n",
       "2           20                   Y       INFORCE      2018-12-28  2019-12-28   \n",
       "3           15                   Q       INFORCE      2018-11-06  2020-02-06   \n",
       "4           15                   M        LAPSED      2012-04-28  2015-06-28   \n",
       "\n",
       "  termination_dt termination_reason main_holder_gender main_holder_dob  \\\n",
       "0            NaT                NaN                  M      1983-10-01   \n",
       "1            NaT                NaN                  F      1958-01-01   \n",
       "2            NaT                NaN                  M      1967-11-01   \n",
       "3            NaT                NaN                  M      1989-10-01   \n",
       "4            NaT             OTHERS                  M      1988-05-01   \n",
       "\n",
       "   main_holder_entry_age  ... date_joined      status       substatus  \\\n",
       "0                     28  ...  2018/02/27  TERMINATED  AUTOTERMINATED   \n",
       "1                     48  ...  1998/10/02    INFORCED          ACTIVE   \n",
       "2                     51  ...  2014/06/25    INFORCED          ACTIVE   \n",
       "3                     29  ...  2014/03/20    INFORCED          ACTIVE   \n",
       "4                     24  ...  2001/05/24    INFORCED          ACTIVE   \n",
       "\n",
       "   termination_date   city_name  cluster_code  supervisor_code  zone_code  \\\n",
       "0        2018/10/31  Colombo 03       LA01002         AG107931    ZONE105   \n",
       "1               NaN    Moratuwa       LA01001         AG100875    ZONE110   \n",
       "2               NaN  Batticaloa       LA01004         AG101697    ZONE107   \n",
       "3               NaN   Ratnapura       LA01002         AG104896    ZONE114   \n",
       "4               NaN     Wadduwa       LA01002         AG104545    ZONE114   \n",
       "\n",
       "   region_code  designation  \n",
       "0        RA262      Advisor  \n",
       "1        RA248      Advisor  \n",
       "2        RA231  Team Leader  \n",
       "3        RA269      Advisor  \n",
       "4        RA257      Advisor  \n",
       "\n",
       "[5 rows x 70 columns]"
      ]
     },
     "execution_count": 10,
     "metadata": {},
     "output_type": "execute_result"
    }
   ],
   "source": [
    "df.head()"
   ]
  },
  {
   "cell_type": "markdown",
   "metadata": {},
   "source": [
    "# Create Labels"
   ]
  },
  {
   "cell_type": "code",
   "execution_count": 11,
   "metadata": {},
   "outputs": [],
   "source": [
    "def create_labels(df, train_snap_date, label_last_date):\n",
    "    snap_df = df[(df.policy_snapshot_as_on == train_snap_date) \n",
    "                    & (df.policy_status == 'INFORCE')][['client_code', \n",
    "                                                        'policy_code', \n",
    "                                                        'product_name']]\n",
    "    cust_df = df[(df.policy_snapshot_as_on == train_snap_date)][[\n",
    "        'client_code']].drop_duplicates().set_index('client_code')\n",
    "\n",
    "    label_df = df[(df.policy_snapshot_as_on > train_snap_date) \n",
    "                     & (df.policy_snapshot_as_on <= label_last_date) \n",
    "                     & (df.policy_status == 'INFORCE')][['client_code', \n",
    "                                                         'product_name', \n",
    "                                                         'policy_code', \n",
    "                                                         'policy_snapshot_as_on']]\n",
    "    \n",
    "    join_df = label_df.merge(snap_df[['policy_code', 'client_code']], \n",
    "                             on=['policy_code', 'client_code'], how='left', \n",
    "                             indicator=True)\n",
    "    join_df['is_prev'] = join_df._merge.map({'left_only':0, 'both':1}).astype(int)\n",
    "    \n",
    "    #customers who can be c\n",
    "    cross_sell_eligible = join_df.groupby(['client_code', \n",
    "                                           'policy_snapshot_as_on']).is_prev.sum()\n",
    "    \n",
    "    cross_sell_eligible.name = 'cross_sell_eligible'\n",
    "    cross_sell_eligible = cross_sell_eligible[cross_sell_eligible > 0].reset_index()\n",
    "    \n",
    "    joined_cs_eligible = join_df.merge(cross_sell_eligible, \n",
    "                                       on=['client_code', \n",
    "                                           'policy_snapshot_as_on'], \n",
    "                                       how='left').dropna()\n",
    "    \n",
    "    labels = joined_cs_eligible[joined_cs_eligible.is_prev == 0][[\n",
    "        'client_code', 'product_name']].drop_duplicates()\n",
    "    labels['value'] = 1\n",
    "    pivot_labels = labels.pivot_table(values='value', index='client_code', \n",
    "                                      aggfunc='sum',\n",
    "                                      columns='product_name').fillna(0).astype(int)\n",
    "\n",
    "    return cust_df.merge(pivot_labels, on='client_code', how='left').fillna(0)\n"
   ]
  },
  {
   "cell_type": "markdown",
   "metadata": {},
   "source": [
    "# Create Client Dataset"
   ]
  },
  {
   "cell_type": "code",
   "execution_count": 12,
   "metadata": {},
   "outputs": [],
   "source": [
    "def client_dataset(df, snap_date):\n",
    "    df_snap = df[(df.policy_snapshot_as_on == snap_date)]\n",
    "    \n",
    "    df_snap.status = df_snap.status + '_AGENT'\n",
    "    \n",
    "    customer_specific_features = ['main_holder_gender', 'main_holder_dob',\n",
    "                               'main_holder_smoker_flag', 'spouse_gender',\n",
    "                               'spouse_dob', 'spouse_smoker_flag',\n",
    "                               'child1_dob', 'child1_gender', 'child2_dob',\n",
    "                               'child2_gender', 'child3_dob', 'child3_gender', \n",
    "                               'child4_dob', 'child4_gender', 'child5_dob', \n",
    "                               'child5_gender', 'main_holder_occupation', \n",
    "                               'client_code']\n",
    "    \n",
    "    df_cust = df_snap[customer_specific_features]\n",
    "\n",
    "    dob_feat = ['main_holder_dob', 'spouse_dob', 'child1_dob', 'child2_dob',\n",
    "           'child3_dob', 'child4_dob', 'child5_dob']\n",
    "\n",
    "    age_feat = []\n",
    "    for col in dob_feat:\n",
    "        new_col = col[:-4] + '_age'\n",
    "        df_cust[new_col] = pd.to_datetime(\n",
    "            snap_date, format='%Y%m%d').year - df_cust[col].dt.year\n",
    "        df_cust = df_cust.drop(columns=col)\n",
    "        age_feat.append(new_col)\n",
    "\n",
    "    df_cust_numeric = df_cust.groupby('client_code')[age_feat].median()\n",
    "\n",
    "    df_cust_cat = df_cust.select_dtypes('object').groupby('client_code').first()\n",
    "\n",
    "    df_cust_fin = df_cust_cat.join(df_cust_numeric)\n",
    "    \n",
    "    pivot_cols = ['policy_payment_mode', 'policy_status', 'payment_method', \n",
    "                  'status', 'gender']\n",
    "    \n",
    "    for col in pivot_cols:\n",
    "        df_filt = df_snap[['client_code'] + [col]].copy()\n",
    "        df_filt['value'] = 1\n",
    "        df_pivot = df_filt.pivot_table(values='value', \n",
    "                                       index='client_code', aggfunc='sum', \n",
    "                                       columns=col).fillna(0).astype(int)\n",
    "        df_cust_fin =df_cust_fin.join(\n",
    "            df_pivot.divide(df_pivot.sum(axis=1), axis=0), how='left')\n",
    "    \n",
    "    #policy age\n",
    "    df_policy_age = df_snap[['client_code', 'policy_snapshot_as_on', 'commencement_dt']]\n",
    "    \n",
    "    df_policy_age['policy_age'] = pd.cut(\n",
    "        ((pd.to_datetime(df_snap.policy_snapshot_as_on, format='%Y%m%d') - df_snap.commencement_dt).dt.days/365),\n",
    "        bins=[-5,1,5,10,100], labels=['policy_age_1_yr', 'policy_age_5_yr', 'policy_age_10_yr', 'policy_age_40_yr'])\n",
    "    df_policy_age = df_policy_age.drop(columns=['policy_snapshot_as_on', 'commencement_dt'])\n",
    "    print(df_policy_age.count())\n",
    "    df_policy_age['value'] = 1\n",
    "    df_pivot = df_policy_age.pivot_table(values='value', \n",
    "                                           index='client_code', aggfunc='sum', \n",
    "                                       columns='policy_age').fillna(0).astype(int)\n",
    "    df_cust_fin = df_cust_fin.join(\n",
    "        df_pivot.divide(df_pivot.sum(axis=1), axis=0), how='left')\n",
    "    \n",
    "    #next due date\n",
    "    df_next_due = df_snap[['client_code', 'policy_snapshot_as_on', 'next_due_dt']]\n",
    "    df_next_due['next_due_age'] = pd.cut(((pd.to_datetime(\n",
    "        df_snap.policy_snapshot_as_on, format='%Y%m%d') - df_snap.next_due_dt).dt.days/365), \n",
    "                                         bins=[-100,-1,-0.2, 0, 0.2, 1, 100], \n",
    "                                         labels=['next_due_min_1_yr', \n",
    "                                                 'next_due_min_0.2_yr', \n",
    "                                                 'next_due_0_yr', \n",
    "                                                 'next_due_0.2_yr', \n",
    "                                                 'next_due_1_yr', \n",
    "                                                 'next_due_100_yr'])\n",
    "\n",
    "    df_next_due = df_next_due.drop(columns=['policy_snapshot_as_on', 'next_due_dt'])\n",
    "    df_next_due['value'] = 1\n",
    "    df_pivot = df_next_due.pivot_table(values='value', \n",
    "                                           index='client_code', aggfunc='sum', \n",
    "                                           columns='next_due_age').fillna(0).astype(int)\n",
    "    df_cust_fin = df_cust_fin.join(\n",
    "        df_pivot.divide(df_pivot.sum(axis=1), axis=0), how='left')\n",
    "    \n",
    "    ## Rider information\n",
    "    rider_sum_cols = ['rider1_sum_assuared', 'rider2_sum_assuared', \n",
    "                  'rider3_sum_assuared', 'rider4_sum_assuared', \n",
    "                  'rider5_sum_assuared', 'rider6_sum_assuared',\n",
    "                  'rider7_sum_assuared', 'rider8_sum_assuared', \n",
    "                  'rider9_sum_assuared', 'rider10_sum_assuared']\n",
    "\n",
    "    rider_prem_cols = ['rider1_prem', 'rider2_prem',\n",
    "           'rider3_prem', 'rider4_prem', 'rider5_prem',\n",
    "           'rider6_prem', 'rider7_prem', 'rider8_prem',\n",
    "           'rider9_prem', 'rider10_prem']\n",
    "\n",
    "    df_rider = df_snap[rider_sum_cols + rider_prem_cols + ['client_code']].copy()\n",
    "\n",
    "    df_rider['rider_count'] = (df_rider[rider_prem_cols] > 0).sum(axis=1)\n",
    "\n",
    "    df_rider['rider_prem'] = df_rider[rider_prem_cols].sum(axis=1)\n",
    "\n",
    "    df_rider['rider_sum_assured'] = df_rider[rider_sum_cols].sum(axis=1)\n",
    "\n",
    "    df_cust_fin = df_cust_fin.join(\n",
    "        df_rider.groupby('client_code')['rider_count', \n",
    "                                        'rider_prem', 'rider_sum_assured'\n",
    "                                       ].sum(), how='left')\n",
    "    \n",
    "    #Premium information\n",
    "    df_prem = df_snap[['client_code', 'premium_value', 'total_sum_assuared', \n",
    "                       'policy_payment_mode']].copy()\n",
    "    df_prem['monthly_premium'] = (df_prem.premium_value / \n",
    "                                  df_prem.policy_payment_mode.map({'M':1, \n",
    "                                                                   'Y':12, \n",
    "                                                                   'Q':3, \n",
    "                                                                   'H':6, \n",
    "                                                                   'S':float('inf')}))\n",
    "    df_prem = df_prem.drop(columns='policy_payment_mode')\n",
    "    df_cust_fin = df_cust_fin.join(df_prem.groupby('client_code').sum(), \n",
    "                                   how='left')\n",
    "\n",
    "    return df_cust_fin"
   ]
  },
  {
   "cell_type": "markdown",
   "metadata": {},
   "source": [
    "# Fill NA values"
   ]
  },
  {
   "cell_type": "code",
   "execution_count": 13,
   "metadata": {},
   "outputs": [],
   "source": [
    "def fillna_vals(df_cust):\n",
    "    cat_cols = ['main_holder_gender', 'main_holder_smoker_flag', 'spouse_gender',\n",
    "       'spouse_smoker_flag', 'child1_gender', 'child2_gender', 'child3_gender',\n",
    "       'child4_gender', 'child5_gender', 'main_holder_occupation']\n",
    "\n",
    "    df_cust[cat_cols] = df_cust[cat_cols].fillna('unk')\n",
    "\n",
    "    zero_fill_cols = ['spouse_age', 'child1_age', 'child2_age',\n",
    "           'child3_age', 'child4_age', 'child5_age']\n",
    "    df_cust[zero_fill_cols] = df_cust[zero_fill_cols].fillna(0)\n",
    "    \n",
    "    return df_cust"
   ]
  },
  {
   "cell_type": "markdown",
   "metadata": {},
   "source": [
    "# Categorical Encoding"
   ]
  },
  {
   "cell_type": "code",
   "execution_count": 14,
   "metadata": {},
   "outputs": [],
   "source": [
    "def cat_encoding(df_cust):\n",
    "    cat_cols = ['main_holder_gender', 'main_holder_smoker_flag', 'spouse_gender',\n",
    "           'spouse_smoker_flag', 'child1_gender', 'child2_gender', 'child3_gender',\n",
    "           'child4_gender', 'child5_gender', 'main_holder_occupation']\n",
    "\n",
    "    cat_enc = OrdinalEncoder(cols=cat_cols, verbose=False)\n",
    "\n",
    "    cat_enc.fit(df_cust)\n",
    "\n",
    "    df_cust = cat_enc.transform(df_cust)\n",
    "    \n",
    "    return df_cust"
   ]
  },
  {
   "cell_type": "markdown",
   "metadata": {},
   "source": [
    "# Create Train Dataset"
   ]
  },
  {
   "cell_type": "code",
   "execution_count": 15,
   "metadata": {},
   "outputs": [],
   "source": [
    "def create_train_set_rec(df, snap_date, last_label_date):\n",
    "    df_labels = create_labels(df, snap_date, last_label_date)\n",
    "\n",
    "    df_cust = client_dataset(df, snap_date)\n",
    "\n",
    "    df_cust = fillna_vals(df_cust)\n",
    "    \n",
    "    df_cust = cat_encoding(df_cust)\n",
    "    df_cust = df_cust.drop(columns=['child4_age', \n",
    "                           'child5_age', \n",
    "                           'child5_gender', \n",
    "                           'child4_gender'])\n",
    "\n",
    "    df_cross_sell = df_labels    \n",
    "\n",
    "    return df_cust.join(df_cross_sell)"
   ]
  },
  {
   "cell_type": "code",
   "execution_count": 16,
   "metadata": {},
   "outputs": [],
   "source": [
    "def create_train_set(df, snap_date, last_label_date):\n",
    "    df_labels = create_labels(df, snap_date, last_label_date)\n",
    "\n",
    "    df_cust = client_dataset(df, snap_date)\n",
    "\n",
    "    df_cust = fillna_vals(df_cust)\n",
    "    \n",
    "    df_cust = cat_encoding(df_cust)\n",
    "    df_cust = df_cust.drop(columns=['child4_age', \n",
    "                           'child5_age', \n",
    "                           'child5_gender', \n",
    "                           'child4_gender'])\n",
    "\n",
    "    df_cross_sell = (df_labels.sum(axis=1) > 0).astype(int)\n",
    "    df_cross_sell.name = 'is_cross_sell'\n",
    "    \n",
    "\n",
    "    return df_cust.join(df_cross_sell)"
   ]
  },
  {
   "cell_type": "code",
   "execution_count": 17,
   "metadata": {},
   "outputs": [],
   "source": [
    "def create_pred_set(df, snap_date):\n",
    "    df_cust = client_dataset(df, snap_date)\n",
    "\n",
    "    df_cust = fillna_vals(df_cust)\n",
    "    \n",
    "    df_cust = cat_encoding(df_cust)\n",
    "    df_cust = df_cust.drop(columns=['child4_age', \n",
    "                           'child5_age', \n",
    "                           'child5_gender', \n",
    "                           'child4_gender'])\n",
    "    \n",
    "    return df_cust"
   ]
  },
  {
   "cell_type": "markdown",
   "metadata": {},
   "source": [
    "# Cross sell prediction Model Training"
   ]
  },
  {
   "cell_type": "markdown",
   "metadata": {},
   "source": [
    "## Train/test datasets\n",
    "\n",
    "train/test selected so that there are no overlapping time regions"
   ]
  },
  {
   "cell_type": "code",
   "execution_count": 1005,
   "metadata": {},
   "outputs": [],
   "source": [
    "policy_snaps = sorted(df.policy_snapshot_as_on.unique())"
   ]
  },
  {
   "cell_type": "code",
   "execution_count": 1034,
   "metadata": {},
   "outputs": [
    {
     "name": "stderr",
     "output_type": "stream",
     "text": [
      "c:\\users\\nisal_105136\\appdata\\local\\programs\\python\\python36\\lib\\site-packages\\pandas\\core\\generic.py:5208: SettingWithCopyWarning: \n",
      "A value is trying to be set on a copy of a slice from a DataFrame.\n",
      "Try using .loc[row_indexer,col_indexer] = value instead\n",
      "\n",
      "See the caveats in the documentation: http://pandas.pydata.org/pandas-docs/stable/user_guide/indexing.html#returning-a-view-versus-a-copy\n",
      "  self[name] = value\n",
      "c:\\users\\nisal_105136\\appdata\\local\\programs\\python\\python36\\lib\\site-packages\\ipykernel_launcher.py:24: SettingWithCopyWarning: \n",
      "A value is trying to be set on a copy of a slice from a DataFrame.\n",
      "Try using .loc[row_indexer,col_indexer] = value instead\n",
      "\n",
      "See the caveats in the documentation: http://pandas.pydata.org/pandas-docs/stable/user_guide/indexing.html#returning-a-view-versus-a-copy\n",
      "c:\\users\\nisal_105136\\appdata\\local\\programs\\python\\python36\\lib\\site-packages\\ipykernel_launcher.py:51: SettingWithCopyWarning: \n",
      "A value is trying to be set on a copy of a slice from a DataFrame.\n",
      "Try using .loc[row_indexer,col_indexer] = value instead\n",
      "\n",
      "See the caveats in the documentation: http://pandas.pydata.org/pandas-docs/stable/user_guide/indexing.html#returning-a-view-versus-a-copy\n",
      "c:\\users\\nisal_105136\\appdata\\local\\programs\\python\\python36\\lib\\site-packages\\ipykernel_launcher.py:71: SettingWithCopyWarning: \n",
      "A value is trying to be set on a copy of a slice from a DataFrame.\n",
      "Try using .loc[row_indexer,col_indexer] = value instead\n",
      "\n",
      "See the caveats in the documentation: http://pandas.pydata.org/pandas-docs/stable/user_guide/indexing.html#returning-a-view-versus-a-copy\n"
     ]
    },
    {
     "name": "stdout",
     "output_type": "stream",
     "text": [
      "client_code    26616\n",
      "policy_age     26616\n",
      "dtype: int64\n",
      "client_code    27091\n",
      "policy_age     27091\n",
      "dtype: int64\n",
      "client_code    27515\n",
      "policy_age     27515\n",
      "dtype: int64\n",
      "client_code    28032\n",
      "policy_age     28032\n",
      "dtype: int64\n",
      "client_code    28501\n",
      "policy_age     28501\n",
      "dtype: int64\n",
      "client_code    29169\n",
      "policy_age     29169\n",
      "dtype: int64\n",
      "client_code    29841\n",
      "policy_age     29841\n",
      "dtype: int64\n"
     ]
    }
   ],
   "source": [
    "df_train = pd.concat([create_train_set(df, policy_snaps[0], policy_snaps[6]),\n",
    "                      create_train_set(df, policy_snaps[1], policy_snaps[7]),\n",
    "                      create_train_set(df, policy_snaps[2], policy_snaps[8]),\n",
    "                      create_train_set(df, policy_snaps[3], policy_snaps[9]),\n",
    "                      create_train_set(df, policy_snaps[4], policy_snaps[10]),\n",
    "                      create_train_set(df, policy_snaps[5], policy_snaps[11]),\n",
    "                      create_train_set(df, policy_snaps[6], policy_snaps[12])\n",
    "                     ])"
   ]
  },
  {
   "cell_type": "code",
   "execution_count": 1035,
   "metadata": {},
   "outputs": [
    {
     "data": {
      "text/plain": [
       "Index(['main_holder_gender', 'main_holder_smoker_flag', 'spouse_gender',\n",
       "       'spouse_smoker_flag', 'child1_gender', 'child2_gender', 'child3_gender',\n",
       "       'main_holder_occupation', 'main_holder_age', 'spouse_age', 'child1_age',\n",
       "       'child2_age', 'child3_age', 'H', 'M', 'Q', 'S', 'Y', 'INFORCE',\n",
       "       'LAPSED', 'TERMINATED', 'CASH', 'CHEQUE', 'INFORCED_AGENT',\n",
       "       'SUSPENDED_AGENT', 'TERMINATED_AGENT', 'Female', 'Male',\n",
       "       'policy_age_1_yr', 'policy_age_5_yr', 'policy_age_10_yr',\n",
       "       'policy_age_40_yr', 'next_due_min_1_yr', 'next_due_min_0.2_yr',\n",
       "       'next_due_0_yr', 'next_due_0.2_yr', 'next_due_1_yr', 'next_due_100_yr',\n",
       "       'rider_count', 'rider_prem', 'rider_sum_assured', 'premium_value',\n",
       "       'total_sum_assuared', 'monthly_premium', 'is_cross_sell'],\n",
       "      dtype='object')"
      ]
     },
     "execution_count": 1035,
     "metadata": {},
     "output_type": "execute_result"
    }
   ],
   "source": [
    "df_train.columns"
   ]
  },
  {
   "cell_type": "code",
   "execution_count": 1036,
   "metadata": {},
   "outputs": [
    {
     "data": {
      "text/plain": [
       "0    159246\n",
       "1      4259\n",
       "Name: is_cross_sell, dtype: int64"
      ]
     },
     "execution_count": 1036,
     "metadata": {},
     "output_type": "execute_result"
    }
   ],
   "source": [
    "df_train.is_cross_sell.value_counts(dropna=False)"
   ]
  },
  {
   "cell_type": "code",
   "execution_count": 1037,
   "metadata": {},
   "outputs": [
    {
     "name": "stderr",
     "output_type": "stream",
     "text": [
      "c:\\users\\nisal_105136\\appdata\\local\\programs\\python\\python36\\lib\\site-packages\\ipykernel_launcher.py:24: SettingWithCopyWarning: \n",
      "A value is trying to be set on a copy of a slice from a DataFrame.\n",
      "Try using .loc[row_indexer,col_indexer] = value instead\n",
      "\n",
      "See the caveats in the documentation: http://pandas.pydata.org/pandas-docs/stable/user_guide/indexing.html#returning-a-view-versus-a-copy\n",
      "c:\\users\\nisal_105136\\appdata\\local\\programs\\python\\python36\\lib\\site-packages\\ipykernel_launcher.py:51: SettingWithCopyWarning: \n",
      "A value is trying to be set on a copy of a slice from a DataFrame.\n",
      "Try using .loc[row_indexer,col_indexer] = value instead\n",
      "\n",
      "See the caveats in the documentation: http://pandas.pydata.org/pandas-docs/stable/user_guide/indexing.html#returning-a-view-versus-a-copy\n"
     ]
    },
    {
     "name": "stdout",
     "output_type": "stream",
     "text": [
      "client_code    33490\n",
      "policy_age     33490\n",
      "dtype: int64\n"
     ]
    },
    {
     "name": "stderr",
     "output_type": "stream",
     "text": [
      "c:\\users\\nisal_105136\\appdata\\local\\programs\\python\\python36\\lib\\site-packages\\ipykernel_launcher.py:71: SettingWithCopyWarning: \n",
      "A value is trying to be set on a copy of a slice from a DataFrame.\n",
      "Try using .loc[row_indexer,col_indexer] = value instead\n",
      "\n",
      "See the caveats in the documentation: http://pandas.pydata.org/pandas-docs/stable/user_guide/indexing.html#returning-a-view-versus-a-copy\n"
     ]
    }
   ],
   "source": [
    "df_test = create_train_set(df, policy_snaps[12], policy_snaps[18])"
   ]
  },
  {
   "cell_type": "code",
   "execution_count": 1038,
   "metadata": {},
   "outputs": [],
   "source": [
    "train_X = df_train.drop(columns='is_cross_sell')\n",
    "train_y = df_train['is_cross_sell']\n",
    "\n",
    "test_X = df_test.drop(columns='is_cross_sell')\n",
    "test_y = df_test['is_cross_sell']"
   ]
  },
  {
   "cell_type": "markdown",
   "metadata": {},
   "source": [
    "## Model Training"
   ]
  },
  {
   "cell_type": "code",
   "execution_count": 1039,
   "metadata": {},
   "outputs": [],
   "source": [
    "model = LGBMClassifier(learning_rate=0.1, max_depth=6, min_child_samples=1000, n_estimators=300, num_leaves=3, random_state=2, class_weight='balanced')\n",
    "model.fit(train_X, train_y)\n",
    "\n",
    "pred_y = model.predict(test_X)\n",
    "pred_y_prob = model.predict_proba(test_X)[:,1]\n",
    "\n",
    "pred_y_train = model.predict(train_X)\n",
    "pred_y_train_prob = model.predict_proba(train_X)[:,1]"
   ]
  },
  {
   "cell_type": "markdown",
   "metadata": {},
   "source": [
    "## Model Evaluation"
   ]
  },
  {
   "cell_type": "code",
   "execution_count": 1040,
   "metadata": {},
   "outputs": [
    {
     "name": "stdout",
     "output_type": "stream",
     "text": [
      "[[20944  5902]\n",
      " [  211   356]]\n"
     ]
    }
   ],
   "source": [
    "print(confusion_matrix(test_y, pred_y))"
   ]
  },
  {
   "cell_type": "code",
   "execution_count": 1041,
   "metadata": {},
   "outputs": [
    {
     "name": "stdout",
     "output_type": "stream",
     "text": [
      "              precision    recall  f1-score   support\n",
      "\n",
      "           0       0.99      0.80      0.89    159246\n",
      "           1       0.09      0.70      0.15      4259\n",
      "\n",
      "    accuracy                           0.80    163505\n",
      "   macro avg       0.54      0.75      0.52    163505\n",
      "weighted avg       0.97      0.80      0.87    163505\n",
      "\n"
     ]
    }
   ],
   "source": [
    "print(classification_report(train_y, pred_y_train))"
   ]
  },
  {
   "cell_type": "code",
   "execution_count": 1042,
   "metadata": {},
   "outputs": [
    {
     "name": "stdout",
     "output_type": "stream",
     "text": [
      "              precision    recall  f1-score   support\n",
      "\n",
      "           0       0.99      0.78      0.87     26846\n",
      "           1       0.06      0.63      0.10       567\n",
      "\n",
      "    accuracy                           0.78     27413\n",
      "   macro avg       0.52      0.70      0.49     27413\n",
      "weighted avg       0.97      0.78      0.86     27413\n",
      "\n"
     ]
    }
   ],
   "source": [
    "print(classification_report(test_y, pred_y))"
   ]
  },
  {
   "cell_type": "code",
   "execution_count": 1043,
   "metadata": {},
   "outputs": [
    {
     "name": "stdout",
     "output_type": "stream",
     "text": [
      "0.8497478197303218\n"
     ]
    }
   ],
   "source": [
    "print(roc_auc_score(train_y, pred_y_train_prob))"
   ]
  },
  {
   "cell_type": "code",
   "execution_count": 1044,
   "metadata": {},
   "outputs": [
    {
     "name": "stdout",
     "output_type": "stream",
     "text": [
      "0.796146280023456\n"
     ]
    }
   ],
   "source": [
    "print(roc_auc_score(test_y, pred_y_prob))"
   ]
  },
  {
   "cell_type": "markdown",
   "metadata": {},
   "source": [
    "# Recommendation prediction model training"
   ]
  },
  {
   "cell_type": "code",
   "execution_count": 1045,
   "metadata": {},
   "outputs": [],
   "source": [
    "policy_snaps = sorted(df.policy_snapshot_as_on.unique())"
   ]
  },
  {
   "cell_type": "code",
   "execution_count": 1130,
   "metadata": {},
   "outputs": [
    {
     "name": "stderr",
     "output_type": "stream",
     "text": [
      "c:\\users\\nisal_105136\\appdata\\local\\programs\\python\\python36\\lib\\site-packages\\pandas\\core\\generic.py:5208: SettingWithCopyWarning: \n",
      "A value is trying to be set on a copy of a slice from a DataFrame.\n",
      "Try using .loc[row_indexer,col_indexer] = value instead\n",
      "\n",
      "See the caveats in the documentation: http://pandas.pydata.org/pandas-docs/stable/user_guide/indexing.html#returning-a-view-versus-a-copy\n",
      "  self[name] = value\n",
      "c:\\users\\nisal_105136\\appdata\\local\\programs\\python\\python36\\lib\\site-packages\\ipykernel_launcher.py:24: SettingWithCopyWarning: \n",
      "A value is trying to be set on a copy of a slice from a DataFrame.\n",
      "Try using .loc[row_indexer,col_indexer] = value instead\n",
      "\n",
      "See the caveats in the documentation: http://pandas.pydata.org/pandas-docs/stable/user_guide/indexing.html#returning-a-view-versus-a-copy\n",
      "c:\\users\\nisal_105136\\appdata\\local\\programs\\python\\python36\\lib\\site-packages\\ipykernel_launcher.py:51: SettingWithCopyWarning: \n",
      "A value is trying to be set on a copy of a slice from a DataFrame.\n",
      "Try using .loc[row_indexer,col_indexer] = value instead\n",
      "\n",
      "See the caveats in the documentation: http://pandas.pydata.org/pandas-docs/stable/user_guide/indexing.html#returning-a-view-versus-a-copy\n",
      "c:\\users\\nisal_105136\\appdata\\local\\programs\\python\\python36\\lib\\site-packages\\ipykernel_launcher.py:71: SettingWithCopyWarning: \n",
      "A value is trying to be set on a copy of a slice from a DataFrame.\n",
      "Try using .loc[row_indexer,col_indexer] = value instead\n",
      "\n",
      "See the caveats in the documentation: http://pandas.pydata.org/pandas-docs/stable/user_guide/indexing.html#returning-a-view-versus-a-copy\n"
     ]
    },
    {
     "name": "stdout",
     "output_type": "stream",
     "text": [
      "client_code    26616\n",
      "policy_age     26616\n",
      "dtype: int64\n",
      "client_code    27091\n",
      "policy_age     27091\n",
      "dtype: int64\n",
      "client_code    27515\n",
      "policy_age     27515\n",
      "dtype: int64\n",
      "client_code    28032\n",
      "policy_age     28032\n",
      "dtype: int64\n",
      "client_code    28501\n",
      "policy_age     28501\n",
      "dtype: int64\n",
      "client_code    29169\n",
      "policy_age     29169\n",
      "dtype: int64\n",
      "client_code    29841\n",
      "policy_age     29841\n",
      "dtype: int64\n"
     ]
    }
   ],
   "source": [
    "df_train = pd.concat([create_train_set_rec(df, policy_snaps[0], policy_snaps[6]),\n",
    "                      create_train_set_rec(df, policy_snaps[1], policy_snaps[7]),\n",
    "                      create_train_set_rec(df, policy_snaps[2], policy_snaps[8]),\n",
    "                      create_train_set_rec(df, policy_snaps[3], policy_snaps[9]),\n",
    "                      create_train_set_rec(df, policy_snaps[4], policy_snaps[10]),\n",
    "                      create_train_set_rec(df, policy_snaps[5], policy_snaps[11]),\n",
    "                      create_train_set_rec(df, policy_snaps[6], policy_snaps[12])\n",
    "                     ])"
   ]
  },
  {
   "cell_type": "code",
   "execution_count": 1131,
   "metadata": {},
   "outputs": [
    {
     "data": {
      "text/plain": [
       "Index(['main_holder_gender', 'main_holder_smoker_flag', 'spouse_gender',\n",
       "       'spouse_smoker_flag', 'child1_gender', 'child2_gender', 'child3_gender',\n",
       "       'main_holder_occupation', 'main_holder_age', 'spouse_age', 'child1_age',\n",
       "       'child2_age', 'child3_age', 'H', 'M', 'Q', 'S', 'Y', 'INFORCE',\n",
       "       'LAPSED', 'TERMINATED', 'CASH', 'CHEQUE', 'INFORCED_AGENT',\n",
       "       'SUSPENDED_AGENT', 'TERMINATED_AGENT', 'Female', 'Male',\n",
       "       'policy_age_1_yr', 'policy_age_5_yr', 'policy_age_10_yr',\n",
       "       'policy_age_40_yr', 'next_due_min_1_yr', 'next_due_min_0.2_yr',\n",
       "       'next_due_0_yr', 'next_due_0.2_yr', 'next_due_1_yr', 'next_due_100_yr',\n",
       "       'rider_count', 'rider_prem', 'rider_sum_assured', 'premium_value',\n",
       "       'total_sum_assuared', 'monthly_premium', 'EDUCATION', 'HEALTH',\n",
       "       'INVESTMENT', 'PROTECTION', 'RETIREMENT'],\n",
       "      dtype='object')"
      ]
     },
     "execution_count": 1131,
     "metadata": {},
     "output_type": "execute_result"
    }
   ],
   "source": [
    "df_train.columns"
   ]
  },
  {
   "cell_type": "code",
   "execution_count": 1132,
   "metadata": {},
   "outputs": [
    {
     "name": "stderr",
     "output_type": "stream",
     "text": [
      "c:\\users\\nisal_105136\\appdata\\local\\programs\\python\\python36\\lib\\site-packages\\ipykernel_launcher.py:24: SettingWithCopyWarning: \n",
      "A value is trying to be set on a copy of a slice from a DataFrame.\n",
      "Try using .loc[row_indexer,col_indexer] = value instead\n",
      "\n",
      "See the caveats in the documentation: http://pandas.pydata.org/pandas-docs/stable/user_guide/indexing.html#returning-a-view-versus-a-copy\n",
      "c:\\users\\nisal_105136\\appdata\\local\\programs\\python\\python36\\lib\\site-packages\\ipykernel_launcher.py:51: SettingWithCopyWarning: \n",
      "A value is trying to be set on a copy of a slice from a DataFrame.\n",
      "Try using .loc[row_indexer,col_indexer] = value instead\n",
      "\n",
      "See the caveats in the documentation: http://pandas.pydata.org/pandas-docs/stable/user_guide/indexing.html#returning-a-view-versus-a-copy\n"
     ]
    },
    {
     "name": "stdout",
     "output_type": "stream",
     "text": [
      "client_code    33490\n",
      "policy_age     33490\n",
      "dtype: int64\n"
     ]
    },
    {
     "name": "stderr",
     "output_type": "stream",
     "text": [
      "c:\\users\\nisal_105136\\appdata\\local\\programs\\python\\python36\\lib\\site-packages\\ipykernel_launcher.py:71: SettingWithCopyWarning: \n",
      "A value is trying to be set on a copy of a slice from a DataFrame.\n",
      "Try using .loc[row_indexer,col_indexer] = value instead\n",
      "\n",
      "See the caveats in the documentation: http://pandas.pydata.org/pandas-docs/stable/user_guide/indexing.html#returning-a-view-versus-a-copy\n"
     ]
    }
   ],
   "source": [
    "df_test = create_train_set_rec(df, policy_snaps[12], policy_snaps[18])"
   ]
  },
  {
   "cell_type": "code",
   "execution_count": 1133,
   "metadata": {},
   "outputs": [],
   "source": [
    "label_cols = ['EDUCATION', 'HEALTH',\n",
    "       'INVESTMENT', 'PROTECTION', 'RETIREMENT']"
   ]
  },
  {
   "cell_type": "code",
   "execution_count": 1134,
   "metadata": {},
   "outputs": [],
   "source": [
    "train_X = df_train.drop(columns=label_cols)\n",
    "train_y = df_train[label_cols]\n",
    "\n",
    "test_X = df_test.drop(columns=label_cols)\n",
    "test_y = df_test[label_cols]"
   ]
  },
  {
   "cell_type": "markdown",
   "metadata": {},
   "source": [
    "## Model Training"
   ]
  },
  {
   "cell_type": "code",
   "execution_count": 1135,
   "metadata": {},
   "outputs": [],
   "source": [
    "model_rec = RandomForestClassifier(n_estimators=100, max_depth=10, class_weight='balanced')\n",
    "# model = LGBMClassifier(learning_rate=0.1, max_depth=6, min_child_samples=1000, n_estimators=300, num_leaves=3, random_state=2, class_weight='balanced')\n",
    "model_rec.fit(train_X, train_y)\n",
    "\n",
    "pred_y = model_rec.predict(test_X)\n",
    "pred_y_prob = model_rec.predict_proba(test_X)\n",
    "\n",
    "pred_y_train = model_rec.predict(train_X)\n",
    "pred_y_train_prob = model_rec.predict_proba(train_X)"
   ]
  },
  {
   "cell_type": "markdown",
   "metadata": {},
   "source": [
    "## Model Evaluation"
   ]
  },
  {
   "cell_type": "code",
   "execution_count": 1136,
   "metadata": {},
   "outputs": [],
   "source": [
    "pred_class = pd.DataFrame(pred_y_prob[0][:,1])\n",
    "pred_class['HEALTH'] = pred_y_prob[1][:,1]\n",
    "pred_class['INVESTMENT'] = pred_y_prob[2][:,1]\n",
    "pred_class['PROTECTION'] = pred_y_prob[3][:,1]\n",
    "pred_class['RETIREMENT'] = pred_y_prob[4][:,1]"
   ]
  },
  {
   "cell_type": "code",
   "execution_count": 1137,
   "metadata": {},
   "outputs": [],
   "source": [
    "pred_class.columns = ['EDUCATION', 'HEALTH', 'INVESTMENT', 'PROTECTION', 'RETIREMENT']"
   ]
  },
  {
   "cell_type": "code",
   "execution_count": 1138,
   "metadata": {},
   "outputs": [
    {
     "data": {
      "text/html": [
       "<div>\n",
       "<style scoped>\n",
       "    .dataframe tbody tr th:only-of-type {\n",
       "        vertical-align: middle;\n",
       "    }\n",
       "\n",
       "    .dataframe tbody tr th {\n",
       "        vertical-align: top;\n",
       "    }\n",
       "\n",
       "    .dataframe thead th {\n",
       "        text-align: right;\n",
       "    }\n",
       "</style>\n",
       "<table border=\"1\" class=\"dataframe\">\n",
       "  <thead>\n",
       "    <tr style=\"text-align: right;\">\n",
       "      <th></th>\n",
       "      <th>EDUCATION</th>\n",
       "      <th>HEALTH</th>\n",
       "      <th>INVESTMENT</th>\n",
       "      <th>PROTECTION</th>\n",
       "      <th>RETIREMENT</th>\n",
       "    </tr>\n",
       "  </thead>\n",
       "  <tbody>\n",
       "    <tr>\n",
       "      <th>0</th>\n",
       "      <td>0.056909</td>\n",
       "      <td>0.235426</td>\n",
       "      <td>0.216432</td>\n",
       "      <td>0.002034</td>\n",
       "      <td>0.089868</td>\n",
       "    </tr>\n",
       "    <tr>\n",
       "      <th>1</th>\n",
       "      <td>0.032200</td>\n",
       "      <td>0.207885</td>\n",
       "      <td>0.178971</td>\n",
       "      <td>0.001970</td>\n",
       "      <td>0.088257</td>\n",
       "    </tr>\n",
       "    <tr>\n",
       "      <th>2</th>\n",
       "      <td>0.023886</td>\n",
       "      <td>0.397527</td>\n",
       "      <td>0.228580</td>\n",
       "      <td>0.024635</td>\n",
       "      <td>0.217437</td>\n",
       "    </tr>\n",
       "    <tr>\n",
       "      <th>3</th>\n",
       "      <td>0.021387</td>\n",
       "      <td>0.266877</td>\n",
       "      <td>0.437143</td>\n",
       "      <td>0.012756</td>\n",
       "      <td>0.202285</td>\n",
       "    </tr>\n",
       "    <tr>\n",
       "      <th>4</th>\n",
       "      <td>0.017716</td>\n",
       "      <td>0.287291</td>\n",
       "      <td>0.406415</td>\n",
       "      <td>0.020229</td>\n",
       "      <td>0.226465</td>\n",
       "    </tr>\n",
       "    <tr>\n",
       "      <th>...</th>\n",
       "      <td>...</td>\n",
       "      <td>...</td>\n",
       "      <td>...</td>\n",
       "      <td>...</td>\n",
       "      <td>...</td>\n",
       "    </tr>\n",
       "    <tr>\n",
       "      <th>27408</th>\n",
       "      <td>0.082060</td>\n",
       "      <td>0.316706</td>\n",
       "      <td>0.260323</td>\n",
       "      <td>0.002426</td>\n",
       "      <td>0.104207</td>\n",
       "    </tr>\n",
       "    <tr>\n",
       "      <th>27409</th>\n",
       "      <td>0.050943</td>\n",
       "      <td>0.281560</td>\n",
       "      <td>0.173310</td>\n",
       "      <td>0.008082</td>\n",
       "      <td>0.192402</td>\n",
       "    </tr>\n",
       "    <tr>\n",
       "      <th>27410</th>\n",
       "      <td>0.059480</td>\n",
       "      <td>0.229513</td>\n",
       "      <td>0.174828</td>\n",
       "      <td>0.010439</td>\n",
       "      <td>0.074415</td>\n",
       "    </tr>\n",
       "    <tr>\n",
       "      <th>27411</th>\n",
       "      <td>0.048483</td>\n",
       "      <td>0.267479</td>\n",
       "      <td>0.173610</td>\n",
       "      <td>0.009736</td>\n",
       "      <td>0.142501</td>\n",
       "    </tr>\n",
       "    <tr>\n",
       "      <th>27412</th>\n",
       "      <td>0.071030</td>\n",
       "      <td>0.233817</td>\n",
       "      <td>0.152292</td>\n",
       "      <td>0.014486</td>\n",
       "      <td>0.119276</td>\n",
       "    </tr>\n",
       "  </tbody>\n",
       "</table>\n",
       "<p>27413 rows × 5 columns</p>\n",
       "</div>"
      ],
      "text/plain": [
       "       EDUCATION    HEALTH  INVESTMENT  PROTECTION  RETIREMENT\n",
       "0       0.056909  0.235426    0.216432    0.002034    0.089868\n",
       "1       0.032200  0.207885    0.178971    0.001970    0.088257\n",
       "2       0.023886  0.397527    0.228580    0.024635    0.217437\n",
       "3       0.021387  0.266877    0.437143    0.012756    0.202285\n",
       "4       0.017716  0.287291    0.406415    0.020229    0.226465\n",
       "...          ...       ...         ...         ...         ...\n",
       "27408   0.082060  0.316706    0.260323    0.002426    0.104207\n",
       "27409   0.050943  0.281560    0.173310    0.008082    0.192402\n",
       "27410   0.059480  0.229513    0.174828    0.010439    0.074415\n",
       "27411   0.048483  0.267479    0.173610    0.009736    0.142501\n",
       "27412   0.071030  0.233817    0.152292    0.014486    0.119276\n",
       "\n",
       "[27413 rows x 5 columns]"
      ]
     },
     "execution_count": 1138,
     "metadata": {},
     "output_type": "execute_result"
    }
   ],
   "source": [
    "pred_class"
   ]
  },
  {
   "cell_type": "code",
   "execution_count": 1139,
   "metadata": {},
   "outputs": [
    {
     "data": {
      "text/plain": [
       "0.9691022507569401"
      ]
     },
     "execution_count": 1139,
     "metadata": {},
     "output_type": "execute_result"
    }
   ],
   "source": [
    "accuracy_score(test_y, pred_y)"
   ]
  },
  {
   "cell_type": "markdown",
   "metadata": {},
   "source": [
    "# Submission set"
   ]
  },
  {
   "cell_type": "code",
   "execution_count": 968,
   "metadata": {},
   "outputs": [
    {
     "name": "stderr",
     "output_type": "stream",
     "text": [
      "c:\\users\\nisal_105136\\appdata\\local\\programs\\python\\python36\\lib\\site-packages\\pandas\\core\\generic.py:5208: SettingWithCopyWarning: \n",
      "A value is trying to be set on a copy of a slice from a DataFrame.\n",
      "Try using .loc[row_indexer,col_indexer] = value instead\n",
      "\n",
      "See the caveats in the documentation: http://pandas.pydata.org/pandas-docs/stable/user_guide/indexing.html#returning-a-view-versus-a-copy\n",
      "  self[name] = value\n",
      "c:\\users\\nisal_105136\\appdata\\local\\programs\\python\\python36\\lib\\site-packages\\ipykernel_launcher.py:24: SettingWithCopyWarning: \n",
      "A value is trying to be set on a copy of a slice from a DataFrame.\n",
      "Try using .loc[row_indexer,col_indexer] = value instead\n",
      "\n",
      "See the caveats in the documentation: http://pandas.pydata.org/pandas-docs/stable/user_guide/indexing.html#returning-a-view-versus-a-copy\n",
      "c:\\users\\nisal_105136\\appdata\\local\\programs\\python\\python36\\lib\\site-packages\\ipykernel_launcher.py:48: SettingWithCopyWarning: \n",
      "A value is trying to be set on a copy of a slice from a DataFrame.\n",
      "Try using .loc[row_indexer,col_indexer] = value instead\n",
      "\n",
      "See the caveats in the documentation: http://pandas.pydata.org/pandas-docs/stable/user_guide/indexing.html#returning-a-view-versus-a-copy\n",
      "c:\\users\\nisal_105136\\appdata\\local\\programs\\python\\python36\\lib\\site-packages\\ipykernel_launcher.py:67: SettingWithCopyWarning: \n",
      "A value is trying to be set on a copy of a slice from a DataFrame.\n",
      "Try using .loc[row_indexer,col_indexer] = value instead\n",
      "\n",
      "See the caveats in the documentation: http://pandas.pydata.org/pandas-docs/stable/user_guide/indexing.html#returning-a-view-versus-a-copy\n"
     ]
    }
   ],
   "source": [
    "df_sub = create_pred_set(df, policy_snaps[18])"
   ]
  },
  {
   "cell_type": "code",
   "execution_count": 969,
   "metadata": {},
   "outputs": [],
   "source": [
    "df_sub = df_pred.join(df_sub, how='inner')"
   ]
  },
  {
   "cell_type": "code",
   "execution_count": 970,
   "metadata": {},
   "outputs": [],
   "source": [
    "pred_sub = model.predict_proba(df_sub)[:,1]"
   ]
  },
  {
   "cell_type": "code",
   "execution_count": 971,
   "metadata": {},
   "outputs": [],
   "source": [
    "df_sub['probability_of_cross_sell'] = pred_sub"
   ]
  },
  {
   "cell_type": "code",
   "execution_count": 972,
   "metadata": {},
   "outputs": [],
   "source": [
    "df_sub = df_sub[['probability_of_cross_sell']]"
   ]
  },
  {
   "cell_type": "code",
   "execution_count": 974,
   "metadata": {},
   "outputs": [],
   "source": [
    "df_sub.index.name = 'map_client_cd'"
   ]
  },
  {
   "cell_type": "code",
   "execution_count": 1169,
   "metadata": {},
   "outputs": [
    {
     "data": {
      "text/html": [
       "<div>\n",
       "<style scoped>\n",
       "    .dataframe tbody tr th:only-of-type {\n",
       "        vertical-align: middle;\n",
       "    }\n",
       "\n",
       "    .dataframe tbody tr th {\n",
       "        vertical-align: top;\n",
       "    }\n",
       "\n",
       "    .dataframe thead th {\n",
       "        text-align: right;\n",
       "    }\n",
       "</style>\n",
       "<table border=\"1\" class=\"dataframe\">\n",
       "  <thead>\n",
       "    <tr style=\"text-align: right;\">\n",
       "      <th></th>\n",
       "      <th>probability_of_cross_sell</th>\n",
       "    </tr>\n",
       "    <tr>\n",
       "      <th>map_client_cd</th>\n",
       "      <th></th>\n",
       "    </tr>\n",
       "  </thead>\n",
       "  <tbody>\n",
       "    <tr>\n",
       "      <th>C100003</th>\n",
       "      <td>0.596445</td>\n",
       "    </tr>\n",
       "    <tr>\n",
       "      <th>C100004</th>\n",
       "      <td>0.679340</td>\n",
       "    </tr>\n",
       "    <tr>\n",
       "      <th>C100009</th>\n",
       "      <td>0.531178</td>\n",
       "    </tr>\n",
       "    <tr>\n",
       "      <th>C100014</th>\n",
       "      <td>0.015594</td>\n",
       "    </tr>\n",
       "    <tr>\n",
       "      <th>C100015</th>\n",
       "      <td>0.533946</td>\n",
       "    </tr>\n",
       "    <tr>\n",
       "      <th>...</th>\n",
       "      <td>...</td>\n",
       "    </tr>\n",
       "    <tr>\n",
       "      <th>C154448</th>\n",
       "      <td>0.432619</td>\n",
       "    </tr>\n",
       "    <tr>\n",
       "      <th>C154449</th>\n",
       "      <td>0.422577</td>\n",
       "    </tr>\n",
       "    <tr>\n",
       "      <th>C154450</th>\n",
       "      <td>0.521595</td>\n",
       "    </tr>\n",
       "    <tr>\n",
       "      <th>C154454</th>\n",
       "      <td>0.677655</td>\n",
       "    </tr>\n",
       "    <tr>\n",
       "      <th>C154455</th>\n",
       "      <td>0.565479</td>\n",
       "    </tr>\n",
       "  </tbody>\n",
       "</table>\n",
       "<p>19030 rows × 1 columns</p>\n",
       "</div>"
      ],
      "text/plain": [
       "               probability_of_cross_sell\n",
       "map_client_cd                           \n",
       "C100003                         0.596445\n",
       "C100004                         0.679340\n",
       "C100009                         0.531178\n",
       "C100014                         0.015594\n",
       "C100015                         0.533946\n",
       "...                                  ...\n",
       "C154448                         0.432619\n",
       "C154449                         0.422577\n",
       "C154450                         0.521595\n",
       "C154454                         0.677655\n",
       "C154455                         0.565479\n",
       "\n",
       "[19030 rows x 1 columns]"
      ]
     },
     "execution_count": 1169,
     "metadata": {},
     "output_type": "execute_result"
    }
   ],
   "source": [
    "df_sub"
   ]
  },
  {
   "cell_type": "code",
   "execution_count": 1160,
   "metadata": {},
   "outputs": [
    {
     "name": "stderr",
     "output_type": "stream",
     "text": [
      "c:\\users\\nisal_105136\\appdata\\local\\programs\\python\\python36\\lib\\site-packages\\pandas\\core\\generic.py:5208: SettingWithCopyWarning: \n",
      "A value is trying to be set on a copy of a slice from a DataFrame.\n",
      "Try using .loc[row_indexer,col_indexer] = value instead\n",
      "\n",
      "See the caveats in the documentation: http://pandas.pydata.org/pandas-docs/stable/user_guide/indexing.html#returning-a-view-versus-a-copy\n",
      "  self[name] = value\n",
      "c:\\users\\nisal_105136\\appdata\\local\\programs\\python\\python36\\lib\\site-packages\\ipykernel_launcher.py:24: SettingWithCopyWarning: \n",
      "A value is trying to be set on a copy of a slice from a DataFrame.\n",
      "Try using .loc[row_indexer,col_indexer] = value instead\n",
      "\n",
      "See the caveats in the documentation: http://pandas.pydata.org/pandas-docs/stable/user_guide/indexing.html#returning-a-view-versus-a-copy\n",
      "c:\\users\\nisal_105136\\appdata\\local\\programs\\python\\python36\\lib\\site-packages\\ipykernel_launcher.py:51: SettingWithCopyWarning: \n",
      "A value is trying to be set on a copy of a slice from a DataFrame.\n",
      "Try using .loc[row_indexer,col_indexer] = value instead\n",
      "\n",
      "See the caveats in the documentation: http://pandas.pydata.org/pandas-docs/stable/user_guide/indexing.html#returning-a-view-versus-a-copy\n"
     ]
    },
    {
     "name": "stdout",
     "output_type": "stream",
     "text": [
      "client_code    35821\n",
      "policy_age     35821\n",
      "dtype: int64\n"
     ]
    },
    {
     "name": "stderr",
     "output_type": "stream",
     "text": [
      "c:\\users\\nisal_105136\\appdata\\local\\programs\\python\\python36\\lib\\site-packages\\ipykernel_launcher.py:71: SettingWithCopyWarning: \n",
      "A value is trying to be set on a copy of a slice from a DataFrame.\n",
      "Try using .loc[row_indexer,col_indexer] = value instead\n",
      "\n",
      "See the caveats in the documentation: http://pandas.pydata.org/pandas-docs/stable/user_guide/indexing.html#returning-a-view-versus-a-copy\n"
     ]
    }
   ],
   "source": [
    "df_sub_rec = create_pred_set(df, policy_snaps[18])"
   ]
  },
  {
   "cell_type": "code",
   "execution_count": 1161,
   "metadata": {},
   "outputs": [],
   "source": [
    "df_sub_rec = df_pred.join(df_sub_rec, how='inner')"
   ]
  },
  {
   "cell_type": "code",
   "execution_count": 1162,
   "metadata": {},
   "outputs": [],
   "source": [
    "sub_y_prob_rec = model_rec.predict_proba(df_sub_rec)"
   ]
  },
  {
   "cell_type": "code",
   "execution_count": 1163,
   "metadata": {},
   "outputs": [],
   "source": [
    "pred_class = pd.DataFrame(sub_y_prob_rec[0][:,1])\n",
    "pred_class['HEALTH'] = sub_y_prob_rec[1][:,1]\n",
    "pred_class['INVESTMENT'] = sub_y_prob_rec[2][:,1]\n",
    "pred_class['PROTECTION'] = sub_y_prob_rec[3][:,1]\n",
    "pred_class['RETIREMENT'] = sub_y_prob_rec[4][:,1]"
   ]
  },
  {
   "cell_type": "code",
   "execution_count": 1164,
   "metadata": {},
   "outputs": [],
   "source": [
    "pred_class.columns = ['EDUCATION', 'HEALTH', 'INVESTMENT', 'PROTECTION', 'RETIREMENT']"
   ]
  },
  {
   "cell_type": "code",
   "execution_count": 1165,
   "metadata": {},
   "outputs": [],
   "source": [
    "df_sub_rec['recommendation'] = pred_class.idxmax(axis=1).values"
   ]
  },
  {
   "cell_type": "code",
   "execution_count": 1171,
   "metadata": {},
   "outputs": [],
   "source": [
    "df_sub_rec = df_sub_rec[['recommendation']]"
   ]
  },
  {
   "cell_type": "code",
   "execution_count": 1172,
   "metadata": {},
   "outputs": [],
   "source": [
    "df_sub_final = df_sub.join(df_sub_rec)"
   ]
  },
  {
   "cell_type": "code",
   "execution_count": 1176,
   "metadata": {},
   "outputs": [
    {
     "data": {
      "text/html": [
       "<div>\n",
       "<style scoped>\n",
       "    .dataframe tbody tr th:only-of-type {\n",
       "        vertical-align: middle;\n",
       "    }\n",
       "\n",
       "    .dataframe tbody tr th {\n",
       "        vertical-align: top;\n",
       "    }\n",
       "\n",
       "    .dataframe thead th {\n",
       "        text-align: right;\n",
       "    }\n",
       "</style>\n",
       "<table border=\"1\" class=\"dataframe\">\n",
       "  <thead>\n",
       "    <tr style=\"text-align: right;\">\n",
       "      <th></th>\n",
       "      <th>probability_of_cross_sell</th>\n",
       "      <th>recommendation</th>\n",
       "    </tr>\n",
       "    <tr>\n",
       "      <th>map_client_cd</th>\n",
       "      <th></th>\n",
       "      <th></th>\n",
       "    </tr>\n",
       "  </thead>\n",
       "  <tbody>\n",
       "    <tr>\n",
       "      <th>C100003</th>\n",
       "      <td>0.596445</td>\n",
       "      <td>INVESTMENT</td>\n",
       "    </tr>\n",
       "    <tr>\n",
       "      <th>C100004</th>\n",
       "      <td>0.679340</td>\n",
       "      <td>INVESTMENT</td>\n",
       "    </tr>\n",
       "    <tr>\n",
       "      <th>C100009</th>\n",
       "      <td>0.531178</td>\n",
       "      <td>INVESTMENT</td>\n",
       "    </tr>\n",
       "    <tr>\n",
       "      <th>C100014</th>\n",
       "      <td>0.015594</td>\n",
       "      <td>HEALTH</td>\n",
       "    </tr>\n",
       "    <tr>\n",
       "      <th>C100015</th>\n",
       "      <td>0.533946</td>\n",
       "      <td>INVESTMENT</td>\n",
       "    </tr>\n",
       "    <tr>\n",
       "      <th>...</th>\n",
       "      <td>...</td>\n",
       "      <td>...</td>\n",
       "    </tr>\n",
       "    <tr>\n",
       "      <th>C154448</th>\n",
       "      <td>0.432619</td>\n",
       "      <td>HEALTH</td>\n",
       "    </tr>\n",
       "    <tr>\n",
       "      <th>C154449</th>\n",
       "      <td>0.422577</td>\n",
       "      <td>INVESTMENT</td>\n",
       "    </tr>\n",
       "    <tr>\n",
       "      <th>C154450</th>\n",
       "      <td>0.521595</td>\n",
       "      <td>INVESTMENT</td>\n",
       "    </tr>\n",
       "    <tr>\n",
       "      <th>C154454</th>\n",
       "      <td>0.677655</td>\n",
       "      <td>PROTECTION</td>\n",
       "    </tr>\n",
       "    <tr>\n",
       "      <th>C154455</th>\n",
       "      <td>0.565479</td>\n",
       "      <td>PROTECTION</td>\n",
       "    </tr>\n",
       "  </tbody>\n",
       "</table>\n",
       "<p>19030 rows × 2 columns</p>\n",
       "</div>"
      ],
      "text/plain": [
       "               probability_of_cross_sell recommendation\n",
       "map_client_cd                                          \n",
       "C100003                         0.596445     INVESTMENT\n",
       "C100004                         0.679340     INVESTMENT\n",
       "C100009                         0.531178     INVESTMENT\n",
       "C100014                         0.015594         HEALTH\n",
       "C100015                         0.533946     INVESTMENT\n",
       "...                                  ...            ...\n",
       "C154448                         0.432619         HEALTH\n",
       "C154449                         0.422577     INVESTMENT\n",
       "C154450                         0.521595     INVESTMENT\n",
       "C154454                         0.677655     PROTECTION\n",
       "C154455                         0.565479     PROTECTION\n",
       "\n",
       "[19030 rows x 2 columns]"
      ]
     },
     "execution_count": 1176,
     "metadata": {},
     "output_type": "execute_result"
    }
   ],
   "source": [
    "df_sub_final"
   ]
  },
  {
   "cell_type": "code",
   "execution_count": 1177,
   "metadata": {},
   "outputs": [],
   "source": [
    "df_sub_final.to_csv('../data/randomforestrangers_case_study_submission.csv')"
   ]
  },
  {
   "cell_type": "markdown",
   "metadata": {},
   "source": [
    "# Model Explanations"
   ]
  },
  {
   "cell_type": "code",
   "execution_count": 864,
   "metadata": {},
   "outputs": [
    {
     "data": {
      "text/plain": [
       "premium_value              285\n",
       "main_holder_age            283\n",
       "monthly_premium            275\n",
       "rider_prem                 261\n",
       "total_sum_assuared         261\n",
       "main_holder_occupation     256\n",
       "rider_sum_assured          241\n",
       "next_due_100_yr             94\n",
       "LAPSED                      94\n",
       "spouse_age                  88\n",
       "INFORCE                     75\n",
       "policy_age_1_yr             65\n",
       "child1_age                  47\n",
       "rider_count                 46\n",
       "child2_age                  39\n",
       "Female                      39\n",
       "next_due_1_yr               38\n",
       "policy_age_10_yr            37\n",
       "main_holder_gender          35\n",
       "next_due_0.2_yr             35\n",
       "SUSPENDED_AGENT             30\n",
       "policy_age_5_yr             28\n",
       "Q                           27\n",
       "INFORCED_AGENT              27\n",
       "child1_gender               26\n",
       "M                           26\n",
       "policy_age_40_yr            26\n",
       "next_due_min_0.2_yr         22\n",
       "spouse_gender               21\n",
       "S                           19\n",
       "TERMINATED_AGENT            18\n",
       "main_holder_smoker_flag     17\n",
       "child2_gender               17\n",
       "next_due_0_yr               16\n",
       "CASH                        16\n",
       "TERMINATED                  16\n",
       "Y                           14\n",
       "child3_age                  12\n",
       "H                           11\n",
       "child3_gender               10\n",
       "Male                         3\n",
       "next_due_min_1_yr            2\n",
       "spouse_smoker_flag           2\n",
       "CHEQUE                       0\n",
       "dtype: int32"
      ]
     },
     "execution_count": 864,
     "metadata": {},
     "output_type": "execute_result"
    }
   ],
   "source": [
    "pd.Series(model.feature_importances_, index=train_X.columns).sort_values(ascending=False)"
   ]
  },
  {
   "cell_type": "code",
   "execution_count": null,
   "metadata": {},
   "outputs": [],
   "source": [
    "#Shap Values\n",
    "import shap\n",
    "shap_train = train_X.sample(2000)\n",
    "shap_values = shap.TreeExplainer(model).shap_values(shap_train)\n",
    "shap.summary_plot(shap_values, shap_train, plot_type=\"bar\")"
   ]
  },
  {
   "cell_type": "code",
   "execution_count": null,
   "metadata": {},
   "outputs": [],
   "source": []
  }
 ],
 "metadata": {
  "kernelspec": {
   "display_name": "Python 3",
   "language": "python",
   "name": "python3"
  },
  "language_info": {
   "codemirror_mode": {
    "name": "ipython",
    "version": 3
   },
   "file_extension": ".py",
   "mimetype": "text/x-python",
   "name": "python",
   "nbconvert_exporter": "python",
   "pygments_lexer": "ipython3",
   "version": "3.6.8"
  }
 },
 "nbformat": 4,
 "nbformat_minor": 4
}
